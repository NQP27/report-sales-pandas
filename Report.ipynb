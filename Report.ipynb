{
 "cells": [
  {
   "cell_type": "code",
   "execution_count": 261,
   "metadata": {
    "collapsed": true
   },
   "outputs": [],
   "source": [
    "import pyspark.sql.functions\n",
    "from pyspark.sql import SparkSession\n",
    "from pyspark.sql.types import *\n",
    "from Packages import sparkBuilder as sB\n",
    "import pandas as pd\n",
    "\n",
    "if __name__ == \"__main__\":\n",
    "    spark = sB.build()  #Xây SparkSession thì mới chạy được trên PyCharm"
   ]
  },
  {
   "cell_type": "code",
   "execution_count": 262,
   "outputs": [
    {
     "name": "stdout",
     "output_type": "stream",
     "text": [
      "+---------+---------+----------+--------------+-----------+------------+-------------------+-----------------+--------------------+---------------+------+-------------+------+-------------+\n",
      "|OrderName|CreatedAt|SourceName|TotalDiscounts|OrderStatus|TotalProduct|              Store|CarrierStatusCode|        CancelReason|   SalesProgram|   Sex|        Title| Price|SubtotalPrice|\n",
      "+---------+---------+----------+--------------+-----------+------------+-------------------+-----------------+--------------------+---------------+------+-------------+------+-------------+\n",
      "|   100643| 7/1/2023|      Zalo|             0|   prepared|           1|37 Nguyen Van Huyen|         prepared|               Blank|      Dat truoc|Female|       Ao day|180000|       180000|\n",
      "|   100656| 7/1/2023|  Facebook|             0|     cancel|           1|         Kho Online|           cancel| Khach suy nghi them|          Blank|Female|       Blazer|450000|       450000|\n",
      "|   100660| 7/1/2023|  Facebook|             0|     cancel|           1|37 Nguyen Van Huyen|           cancel|Tra gop khong tha...|      Dat truoc|Female|       Blazer|450000|       450000|\n",
      "|   100676| 7/1/2023|  Facebook|             0|     cancel|           1|         Kho Online|           cancel|       Don hang spam|          Blank|Female|     Chan vay|310000|       310000|\n",
      "|   100706| 7/1/2023|     Store|        300000|   complete|           1|37 Nguyen Van Huyen|         complete|               Blank|   Mua tai quay|Female|       Blazer|450000|       450000|\n",
      "|   100725| 7/1/2023|   Hotline|             0|   complete|           1|      27 kham Thien|         complete|               Blank|      Dat truoc|Female|       Blazer|450000|       450000|\n",
      "|   100728| 7/1/2023|   Hotline|             0|   prepared|           1|37 Nguyen Van Huyen|         prepared|               Blank|      Dat truoc|Female|     Ao phong|300000|       300000|\n",
      "|   100735| 7/1/2023|     Store|             0|   complete|           1|         89 Lang Ha|         complete|               Blank|   Mua tai quay|Female|     Chan vay|310000|       310000|\n",
      "|   100742| 7/1/2023|  Facebook|             0|   complete|           1|         Kho Online|         complete|               Blank|Hang van chuyen|Female|       Blazer|450000|       450000|\n",
      "|   100769| 7/1/2023| Instagram|             0|   prepared|           1|         Kho Online|         prepared|               Blank|      Dat truoc|Female|       Blazer|450000|       450000|\n",
      "|   100776| 7/1/2023|  Facebook|             0|   complete|           1|         Kho Online|         complete|               Blank|Hang van chuyen|Female|Quan ong rong|380000|       380000|\n",
      "|   100788| 7/1/2023|  Facebook|        299000|  confirmed|           1|       Kho Don Hang|        confirmed|               Blank|Hang van chuyen|Female|     Chan vay|310000|       310000|\n",
      "|   100805| 7/1/2023|  Facebook|             0|   complete|           1|         Kho Online|         complete|               Blank|Hang van chuyen|Female|     Chan vay|310000|       310000|\n",
      "|   100810| 7/1/2023|   Hotline|             0|   prepared|           1|37 Nguyen Van Huyen|         prepared|               Blank|      Dat truoc|Female|     Ao phong|300000|       300000|\n",
      "|   100811| 7/1/2023|   Hotline|             0|   complete|           1|37 Nguyen Van Huyen|         complete|               Blank|      Dat truoc|Female|Quan ong rong|380000|       380000|\n",
      "|   100822| 7/1/2023|   Hotline|             0|   complete|           1|37 Nguyen Van Huyen|         complete|               Blank|      Dat truoc|Female|Quan ong rong|380000|       380000|\n",
      "|   100836| 7/1/2023|  Facebook|             0|   complete|           1|         Kho Online|         complete|               Blank|      Dat truoc|Female|Quan ong rong|380000|       380000|\n",
      "|   100852| 7/1/2023|   Hotline|             0|   prepared|           1|37 Nguyen Van Huyen|         prepared|               Blank|      Dat truoc|Female|     Chan vay|310000|       310000|\n",
      "|   100855| 7/1/2023| Instagram|             0|   prepared|           1|37 Nguyen Van Huyen|         prepared|               Blank|      Dat truoc|Female|     Chan vay|310000|       310000|\n",
      "|   100893| 7/1/2023|   Hotline|             0|   complete|           1|37 Nguyen Van Huyen|         complete|               Blank|      Dat truoc|Female|     Chan vay|310000|       310000|\n",
      "+---------+---------+----------+--------------+-----------+------------+-------------------+-----------------+--------------------+---------------+------+-------------+------+-------------+\n",
      "only showing top 20 rows\n",
      "\n"
     ]
    }
   ],
   "source": [
    "df = spark.read.csv(path=\"E:\\Worksapce\\PyCharm\\DongPhanTich\\data\\Data1.csv\",header=True,inferSchema=True)\n",
    "df = df.fillna(\"Blank\")\n",
    "df.show()"
   ],
   "metadata": {
    "collapsed": false
   }
  },
  {
   "cell_type": "code",
   "execution_count": 263,
   "outputs": [
    {
     "name": "stdout",
     "output_type": "stream",
     "text": [
      "+-----------------+----+\n",
      "|            Title|  SL|\n",
      "+-----------------+----+\n",
      "|         Vay body|  95|\n",
      "|               Vi| 153|\n",
      "|         Chan vay| 344|\n",
      "|          Tui deo| 189|\n",
      "|       Quan jeans| 444|\n",
      "|           Blazer| 704|\n",
      "|         Ao phong| 279|\n",
      "|            Blank|   2|\n",
      "|               Mu| 168|\n",
      "|         Quan tay| 732|\n",
      "|         Vay lien|1135|\n",
      "|           Hoodie| 234|\n",
      "|    Quan ong rong| 153|\n",
      "|        So mi dai| 783|\n",
      "| Ao croptop so mi| 334|\n",
      "|That lung dinh da|  96|\n",
      "|           Ao day| 107|\n",
      "|           Ao len| 182|\n",
      "+-----------------+----+\n",
      "\n"
     ]
    }
   ],
   "source": [
    "#1. Đếm số lượng mỗi loại sản phẩm bán được\n",
    "df1 = df.groupBy(df.Title).sum()\n",
    "df1 = df1.select(df1['Title'],df1['sum(TotalProduct)'].alias('SL'))\n",
    "df1.show()"
   ],
   "metadata": {
    "collapsed": false
   }
  },
  {
   "cell_type": "code",
   "execution_count": 264,
   "outputs": [
    {
     "name": "stdout",
     "output_type": "stream",
     "text": [
      "+-----------------+----+\n",
      "|            Title|  SL|\n",
      "+-----------------+----+\n",
      "|         Vay lien|1135|\n",
      "|        So mi dai| 783|\n",
      "|         Quan tay| 732|\n",
      "|           Blazer| 704|\n",
      "|       Quan jeans| 444|\n",
      "|         Chan vay| 344|\n",
      "| Ao croptop so mi| 334|\n",
      "|         Ao phong| 279|\n",
      "|           Hoodie| 234|\n",
      "|          Tui deo| 189|\n",
      "|           Ao len| 182|\n",
      "|               Mu| 168|\n",
      "|               Vi| 153|\n",
      "|    Quan ong rong| 153|\n",
      "|           Ao day| 107|\n",
      "|That lung dinh da|  96|\n",
      "|         Vay body|  95|\n",
      "|            Blank|   2|\n",
      "+-----------------+----+\n",
      "\n",
      "+-------+\n",
      "|max(SL)|\n",
      "+-------+\n",
      "|   1135|\n",
      "+-------+\n",
      "\n"
     ]
    }
   ],
   "source": [
    "df1.orderBy(df1.SL.desc()).show()\n",
    "df1.agg({'SL': 'max'}).show()\n",
    "#1. Đếm số lượng mỗi loại sản phẩm bán được _ END"
   ],
   "metadata": {
    "collapsed": false
   }
  },
  {
   "cell_type": "code",
   "execution_count": 265,
   "outputs": [],
   "source": [
    "#2. Đếm số lượng đơn Cancel, Complete\n",
    "df1 = df.groupBy(df.CarrierStatusCode).count()\n",
    "df1 = df1.select(df1['CarrierStatusCode'], df1['count'].alias('SL'))"
   ],
   "metadata": {
    "collapsed": false
   }
  },
  {
   "cell_type": "code",
   "execution_count": 266,
   "outputs": [
    {
     "name": "stdout",
     "output_type": "stream",
     "text": [
      "+-----------------+----+\n",
      "|CarrierStatusCode|  SL|\n",
      "+-----------------+----+\n",
      "|           cancel|1891|\n",
      "|         complete|2602|\n",
      "+-----------------+----+\n",
      "\n"
     ]
    }
   ],
   "source": [
    "df1.createOrReplaceTempView('sales')\n",
    "spark.sql('select * from sales where CarrierStatusCode = \"cancel\" or CarrierStatusCode = \"complete\"').show()\n",
    "#2. Đếm số lượng đơn Cancel, Complete _ END"
   ],
   "metadata": {
    "collapsed": false
   }
  },
  {
   "cell_type": "code",
   "execution_count": 267,
   "outputs": [
    {
     "name": "stdout",
     "output_type": "stream",
     "text": [
      "+---------+----------+-----------------+------------------------+\n",
      "|OrderName|Title     |CarrierStatusCode|CancelReason            |\n",
      "+---------+----------+-----------------+------------------------+\n",
      "|100656   |Blazer    |cancel           |Khach suy nghi them     |\n",
      "|100660   |Blazer    |cancel           |Tra gop khong thanh cong|\n",
      "|100676   |Chan vay  |cancel           |Don hang spam           |\n",
      "|103756   |Quan tay  |cancel           |Don trung               |\n",
      "|103758   |Quan jeans|cancel           |Don trung               |\n",
      "|103904   |Quan jeans|cancel           |Khach suy nghi them     |\n",
      "|103937   |Tui deo   |cancel           |Don hang spam           |\n",
      "|103977   |Tui deo   |cancel           |Het hang                |\n",
      "|104013   |Ao phong  |cancel           |Don trung               |\n",
      "|104031   |Quan tay  |cancel           |Don hang spam           |\n",
      "|104099   |Quan tay  |cancel           |Khach suy nghi them     |\n",
      "|104151   |Tui deo   |cancel           |Khach suy nghi them     |\n",
      "|104155   |Ao day    |cancel           |Khach suy nghi them     |\n",
      "|104194   |Tui deo   |cancel           |Khach suy nghi them     |\n",
      "|104229   |Ao day    |cancel           |Don hang spam           |\n",
      "|104231   |Tui deo   |cancel           |Khach suy nghi them     |\n",
      "|102109   |Tui deo   |cancel           |Khach suy nghi them     |\n",
      "|102690   |Ao day    |cancel           |Don hang spam           |\n",
      "|102695   |Quan jeans|cancel           |Het hang                |\n",
      "|102725   |Tui deo   |cancel           |Tham khao so sanh gia   |\n",
      "+---------+----------+-----------------+------------------------+\n",
      "only showing top 20 rows\n",
      "\n"
     ]
    }
   ],
   "source": [
    "#2. Lý giải vì sao Cancel\n",
    "df.createOrReplaceTempView('sales1')\n",
    "spark.sql('select OrderName, Title, CarrierStatusCode, CancelReason from sales1 where CarrierStatusCode = \"cancel\"').show(n= 20,truncate=False)\n",
    "#2. Lý giải vì sao Cancel _ END"
   ],
   "metadata": {
    "collapsed": false
   }
  },
  {
   "cell_type": "code",
   "execution_count": 268,
   "outputs": [
    {
     "name": "stdout",
     "output_type": "stream",
     "text": [
      "+------------+----+\n",
      "|SalesProgram|  SL|\n",
      "+------------+----+\n",
      "|Mua tai quay|1068|\n",
      "|   Dat truoc|2230|\n",
      "+------------+----+\n",
      "\n"
     ]
    }
   ],
   "source": [
    "#3. Đếm số lượng đơn mua tại quầy, đặt trước\n",
    "df1 = df.groupBy(df.SalesProgram).count()\n",
    "df1 = df1.select(df1['SalesProgram'], df1['count'].alias('SL'))\n",
    "df1.createOrReplaceTempView('sales2')\n",
    "spark.sql('select * from sales2 where SalesProgram = \"Mua tai quay\" or SalesProgram= \"Dat truoc\"').show()\n",
    "#3. Đếm số lượng đơn mua tại quầy, đặt trước _ END"
   ],
   "metadata": {
    "collapsed": false
   }
  },
  {
   "cell_type": "code",
   "execution_count": 269,
   "outputs": [],
   "source": [
    "#4. Đếm số lượng khách hàng là nam, nữ kèm tỉ lệ\n",
    "df1 = df.groupBy(df.Sex).count()\n",
    "df1 = df1.select(df1['Sex'], df1['count'].alias('SL')).toPandas()"
   ],
   "metadata": {
    "collapsed": false
   }
  },
  {
   "cell_type": "code",
   "execution_count": 270,
   "outputs": [
    {
     "name": "stdout",
     "output_type": "stream",
     "text": [
      "+------+----+----------+\n",
      "|   Sex|  SL|Percentage|\n",
      "+------+----+----------+\n",
      "|Female|5190|     96.92|\n",
      "|  Male| 165|      3.08|\n",
      "+------+----+----------+\n",
      "\n"
     ]
    }
   ],
   "source": [
    "df1[\"Percentage\"] = df1[\"SL\"] * 100 / df1[\"SL\"].sum()\n",
    "df1[\"Percentage\"]= round(df1[\"Percentage\"],2)\n",
    "df1 = spark.createDataFrame(df1)\n",
    "df1.show()\n",
    "#4. Đếm số lượng khách hàng là nam, nữ kèm tỉ lệ _ END"
   ],
   "metadata": {
    "collapsed": false
   }
  },
  {
   "cell_type": "code",
   "execution_count": 271,
   "outputs": [
    {
     "data": {
      "text/plain": "      OrderName  CreatedAt SourceName  TotalDiscounts OrderStatus  \\\n0      100643.0   7/1/2023       Zalo             0.0    prepared   \n1      100656.0   7/1/2023   Facebook             0.0      cancel   \n2      100660.0   7/1/2023   Facebook             0.0      cancel   \n3      100676.0   7/1/2023   Facebook             0.0      cancel   \n4      100706.0   7/1/2023      Store        300000.0    complete   \n...         ...        ...        ...             ...         ...   \n5350   105618.0  9/29/2023  Instagram             0.0    complete   \n5351   105634.0  9/29/2023  Instagram             0.0      cancel   \n5352   105639.0  9/29/2023  Instagram             0.0    complete   \n5353   105650.0  9/29/2023     Shopee             0.0      cancel   \n5354   105698.0  9/29/2023       Zalo             0.0    complete   \n\n      TotalProduct                Store CarrierStatusCode  \\\n0                1  37 Nguyen Van Huyen          prepared   \n1                1           Kho Online            cancel   \n2                1  37 Nguyen Van Huyen            cancel   \n3                1           Kho Online            cancel   \n4                1  37 Nguyen Van Huyen          complete   \n...            ...                  ...               ...   \n5350             1           Kho Online          complete   \n5351             1           Kho Online            cancel   \n5352             1  37 Nguyen Van Huyen          complete   \n5353             1  37 Nguyen Van Huyen            cancel   \n5354             1        27 kham Thien          complete   \n\n                       CancelReason     SalesProgram     Sex  \\\n0                             Blank        Dat truoc  Female   \n1               Khach suy nghi them            Blank  Female   \n2          Tra gop khong thanh cong        Dat truoc  Female   \n3                     Don hang spam            Blank  Female   \n4                             Blank     Mua tai quay  Female   \n...                             ...              ...     ...   \n5350                          Blank  Hang van chuyen  Female   \n5351  Khong lien he duoc khach hang            Blank  Female   \n5352                          Blank        Dat truoc  Female   \n5353                Khach khong den        Dat truoc  Female   \n5354                          Blank    Tu van chuyen  Female   \n\n                 Title   Price  SubtotalPrice  \n0               Ao day  180000         180000  \n1               Blazer  450000         450000  \n2               Blazer  450000         450000  \n3             Chan vay  310000         310000  \n4               Blazer  450000         450000  \n...                ...     ...            ...  \n5350          Quan tay  420000         420000  \n5351                Mu  180000         180000  \n5352          Vay lien  430000         430000  \n5353          Quan tay  420000         420000  \n5354  Ao croptop so mi  280000         280000  \n\n[5355 rows x 14 columns]",
      "text/html": "<div>\n<style scoped>\n    .dataframe tbody tr th:only-of-type {\n        vertical-align: middle;\n    }\n\n    .dataframe tbody tr th {\n        vertical-align: top;\n    }\n\n    .dataframe thead th {\n        text-align: right;\n    }\n</style>\n<table border=\"1\" class=\"dataframe\">\n  <thead>\n    <tr style=\"text-align: right;\">\n      <th></th>\n      <th>OrderName</th>\n      <th>CreatedAt</th>\n      <th>SourceName</th>\n      <th>TotalDiscounts</th>\n      <th>OrderStatus</th>\n      <th>TotalProduct</th>\n      <th>Store</th>\n      <th>CarrierStatusCode</th>\n      <th>CancelReason</th>\n      <th>SalesProgram</th>\n      <th>Sex</th>\n      <th>Title</th>\n      <th>Price</th>\n      <th>SubtotalPrice</th>\n    </tr>\n  </thead>\n  <tbody>\n    <tr>\n      <th>0</th>\n      <td>100643.0</td>\n      <td>7/1/2023</td>\n      <td>Zalo</td>\n      <td>0.0</td>\n      <td>prepared</td>\n      <td>1</td>\n      <td>37 Nguyen Van Huyen</td>\n      <td>prepared</td>\n      <td>Blank</td>\n      <td>Dat truoc</td>\n      <td>Female</td>\n      <td>Ao day</td>\n      <td>180000</td>\n      <td>180000</td>\n    </tr>\n    <tr>\n      <th>1</th>\n      <td>100656.0</td>\n      <td>7/1/2023</td>\n      <td>Facebook</td>\n      <td>0.0</td>\n      <td>cancel</td>\n      <td>1</td>\n      <td>Kho Online</td>\n      <td>cancel</td>\n      <td>Khach suy nghi them</td>\n      <td>Blank</td>\n      <td>Female</td>\n      <td>Blazer</td>\n      <td>450000</td>\n      <td>450000</td>\n    </tr>\n    <tr>\n      <th>2</th>\n      <td>100660.0</td>\n      <td>7/1/2023</td>\n      <td>Facebook</td>\n      <td>0.0</td>\n      <td>cancel</td>\n      <td>1</td>\n      <td>37 Nguyen Van Huyen</td>\n      <td>cancel</td>\n      <td>Tra gop khong thanh cong</td>\n      <td>Dat truoc</td>\n      <td>Female</td>\n      <td>Blazer</td>\n      <td>450000</td>\n      <td>450000</td>\n    </tr>\n    <tr>\n      <th>3</th>\n      <td>100676.0</td>\n      <td>7/1/2023</td>\n      <td>Facebook</td>\n      <td>0.0</td>\n      <td>cancel</td>\n      <td>1</td>\n      <td>Kho Online</td>\n      <td>cancel</td>\n      <td>Don hang spam</td>\n      <td>Blank</td>\n      <td>Female</td>\n      <td>Chan vay</td>\n      <td>310000</td>\n      <td>310000</td>\n    </tr>\n    <tr>\n      <th>4</th>\n      <td>100706.0</td>\n      <td>7/1/2023</td>\n      <td>Store</td>\n      <td>300000.0</td>\n      <td>complete</td>\n      <td>1</td>\n      <td>37 Nguyen Van Huyen</td>\n      <td>complete</td>\n      <td>Blank</td>\n      <td>Mua tai quay</td>\n      <td>Female</td>\n      <td>Blazer</td>\n      <td>450000</td>\n      <td>450000</td>\n    </tr>\n    <tr>\n      <th>...</th>\n      <td>...</td>\n      <td>...</td>\n      <td>...</td>\n      <td>...</td>\n      <td>...</td>\n      <td>...</td>\n      <td>...</td>\n      <td>...</td>\n      <td>...</td>\n      <td>...</td>\n      <td>...</td>\n      <td>...</td>\n      <td>...</td>\n      <td>...</td>\n    </tr>\n    <tr>\n      <th>5350</th>\n      <td>105618.0</td>\n      <td>9/29/2023</td>\n      <td>Instagram</td>\n      <td>0.0</td>\n      <td>complete</td>\n      <td>1</td>\n      <td>Kho Online</td>\n      <td>complete</td>\n      <td>Blank</td>\n      <td>Hang van chuyen</td>\n      <td>Female</td>\n      <td>Quan tay</td>\n      <td>420000</td>\n      <td>420000</td>\n    </tr>\n    <tr>\n      <th>5351</th>\n      <td>105634.0</td>\n      <td>9/29/2023</td>\n      <td>Instagram</td>\n      <td>0.0</td>\n      <td>cancel</td>\n      <td>1</td>\n      <td>Kho Online</td>\n      <td>cancel</td>\n      <td>Khong lien he duoc khach hang</td>\n      <td>Blank</td>\n      <td>Female</td>\n      <td>Mu</td>\n      <td>180000</td>\n      <td>180000</td>\n    </tr>\n    <tr>\n      <th>5352</th>\n      <td>105639.0</td>\n      <td>9/29/2023</td>\n      <td>Instagram</td>\n      <td>0.0</td>\n      <td>complete</td>\n      <td>1</td>\n      <td>37 Nguyen Van Huyen</td>\n      <td>complete</td>\n      <td>Blank</td>\n      <td>Dat truoc</td>\n      <td>Female</td>\n      <td>Vay lien</td>\n      <td>430000</td>\n      <td>430000</td>\n    </tr>\n    <tr>\n      <th>5353</th>\n      <td>105650.0</td>\n      <td>9/29/2023</td>\n      <td>Shopee</td>\n      <td>0.0</td>\n      <td>cancel</td>\n      <td>1</td>\n      <td>37 Nguyen Van Huyen</td>\n      <td>cancel</td>\n      <td>Khach khong den</td>\n      <td>Dat truoc</td>\n      <td>Female</td>\n      <td>Quan tay</td>\n      <td>420000</td>\n      <td>420000</td>\n    </tr>\n    <tr>\n      <th>5354</th>\n      <td>105698.0</td>\n      <td>9/29/2023</td>\n      <td>Zalo</td>\n      <td>0.0</td>\n      <td>complete</td>\n      <td>1</td>\n      <td>27 kham Thien</td>\n      <td>complete</td>\n      <td>Blank</td>\n      <td>Tu van chuyen</td>\n      <td>Female</td>\n      <td>Ao croptop so mi</td>\n      <td>280000</td>\n      <td>280000</td>\n    </tr>\n  </tbody>\n</table>\n<p>5355 rows × 14 columns</p>\n</div>"
     },
     "execution_count": 271,
     "metadata": {},
     "output_type": "execute_result"
    }
   ],
   "source": [
    "#5. Số lượng sản phẩm theo khung giá và tỉ lệ phần trăm\n",
    "df1 = df.toPandas()\n",
    "df1"
   ],
   "metadata": {
    "collapsed": false
   }
  },
  {
   "cell_type": "code",
   "execution_count": 272,
   "outputs": [],
   "source": [
    "data = {'Gia_tri': [\"So_luong\"]}\n",
    "df2 = pd.DataFrame(data)\n",
    "df2[\"<200k\"]=df1[df1[\"Price\"]<200000][\"TotalProduct\"].sum()\n",
    "df2[\"200k- <300k\"] = df1[df1[\"Price\"] < 300000][\"TotalProduct\"].sum() - df2[\"<200k\"]\n",
    "df2[\"300k- <400k\"] = df1[df1[\"Price\"] < 400000][\"TotalProduct\"].sum() - df2[\"<200k\"] - df2[\"200k- <300k\"]\n",
    "df2[\">=400k\"] = df1[df1[\"Price\"]>= 400000][\"TotalProduct\"].sum()"
   ],
   "metadata": {
    "collapsed": false
   }
  },
  {
   "cell_type": "code",
   "execution_count": 273,
   "outputs": [
    {
     "data": {
      "text/plain": "    Gia_tri  <200k  200k- <300k  300k- <400k  >=400k\n0  So_luong    428          620         2281    2805",
      "text/html": "<div>\n<style scoped>\n    .dataframe tbody tr th:only-of-type {\n        vertical-align: middle;\n    }\n\n    .dataframe tbody tr th {\n        vertical-align: top;\n    }\n\n    .dataframe thead th {\n        text-align: right;\n    }\n</style>\n<table border=\"1\" class=\"dataframe\">\n  <thead>\n    <tr style=\"text-align: right;\">\n      <th></th>\n      <th>Gia_tri</th>\n      <th>&lt;200k</th>\n      <th>200k- &lt;300k</th>\n      <th>300k- &lt;400k</th>\n      <th>&gt;=400k</th>\n    </tr>\n  </thead>\n  <tbody>\n    <tr>\n      <th>0</th>\n      <td>So_luong</td>\n      <td>428</td>\n      <td>620</td>\n      <td>2281</td>\n      <td>2805</td>\n    </tr>\n  </tbody>\n</table>\n</div>"
     },
     "execution_count": 273,
     "metadata": {},
     "output_type": "execute_result"
    }
   ],
   "source": [
    "df2"
   ],
   "metadata": {
    "collapsed": false
   }
  },
  {
   "cell_type": "code",
   "execution_count": 274,
   "outputs": [
    {
     "data": {
      "text/plain": "6134"
     },
     "execution_count": 274,
     "metadata": {},
     "output_type": "execute_result"
    }
   ],
   "source": [
    "df1.TotalProduct.sum()"
   ],
   "metadata": {
    "collapsed": false
   }
  },
  {
   "cell_type": "code",
   "execution_count": 275,
   "outputs": [],
   "source": [
    "df4= df2.set_index('Gia_tri').T"
   ],
   "metadata": {
    "collapsed": false
   }
  },
  {
   "cell_type": "code",
   "execution_count": 276,
   "outputs": [],
   "source": [
    "df4[\"Percentage\"] = df4[\"So_luong\"] * 100 / df4[\"So_luong\"].sum()\n",
    "df4[\"Percentage\"]= round(df4[\"Percentage\"],2)"
   ],
   "metadata": {
    "collapsed": false
   }
  },
  {
   "cell_type": "code",
   "execution_count": 277,
   "outputs": [
    {
     "data": {
      "text/plain": "Gia_tri      So_luong  Percentage\n<200k             428        6.98\n200k- <300k       620       10.11\n300k- <400k      2281       37.19\n>=400k           2805       45.73",
      "text/html": "<div>\n<style scoped>\n    .dataframe tbody tr th:only-of-type {\n        vertical-align: middle;\n    }\n\n    .dataframe tbody tr th {\n        vertical-align: top;\n    }\n\n    .dataframe thead th {\n        text-align: right;\n    }\n</style>\n<table border=\"1\" class=\"dataframe\">\n  <thead>\n    <tr style=\"text-align: right;\">\n      <th>Gia_tri</th>\n      <th>So_luong</th>\n      <th>Percentage</th>\n    </tr>\n  </thead>\n  <tbody>\n    <tr>\n      <th>&lt;200k</th>\n      <td>428</td>\n      <td>6.98</td>\n    </tr>\n    <tr>\n      <th>200k- &lt;300k</th>\n      <td>620</td>\n      <td>10.11</td>\n    </tr>\n    <tr>\n      <th>300k- &lt;400k</th>\n      <td>2281</td>\n      <td>37.19</td>\n    </tr>\n    <tr>\n      <th>&gt;=400k</th>\n      <td>2805</td>\n      <td>45.73</td>\n    </tr>\n  </tbody>\n</table>\n</div>"
     },
     "execution_count": 277,
     "metadata": {},
     "output_type": "execute_result"
    }
   ],
   "source": [
    "df4\n",
    "#5. Số lượng sản phẩm theo khung giá và tỉ lệ phần trăm _ END"
   ],
   "metadata": {
    "collapsed": false
   }
  },
  {
   "cell_type": "code",
   "execution_count": 278,
   "outputs": [],
   "source": [
    "#6. Sắp xếp bảng theo ngày của các tháng, xem tháng nào bán được tổng lượng là bao nhiêu, sp nào nhiều nhất"
   ],
   "metadata": {
    "collapsed": false
   }
  },
  {
   "cell_type": "code",
   "execution_count": 279,
   "outputs": [],
   "source": [
    "from pyspark.sql.functions import col\n",
    "df7 = df.orderBy(df.CreatedAt.asc())"
   ],
   "metadata": {
    "collapsed": false
   }
  },
  {
   "cell_type": "code",
   "execution_count": 280,
   "outputs": [],
   "source": [
    "df8 = df7.toPandas()"
   ],
   "metadata": {
    "collapsed": false
   }
  },
  {
   "cell_type": "code",
   "execution_count": 281,
   "outputs": [],
   "source": [
    "df8['Month'] = df8['CreatedAt'].str[0:1] #Thêm cột month = cách substring cột order date (2 kí tự đầu)\n",
    "df=df.dropna()  # Xóa dòng NaN"
   ],
   "metadata": {
    "collapsed": false
   }
  },
  {
   "cell_type": "code",
   "execution_count": 282,
   "outputs": [
    {
     "name": "stdout",
     "output_type": "stream",
     "text": [
      "{8, 9, 7}\n"
     ]
    },
    {
     "data": {
      "text/plain": "      OrderName CreatedAt SourceName  TotalDiscounts OrderStatus  \\\n0      100643.0  7/1/2023       Zalo             0.0    prepared   \n1      100656.0  7/1/2023   Facebook             0.0      cancel   \n2      100660.0  7/1/2023   Facebook             0.0      cancel   \n3      100676.0  7/1/2023   Facebook             0.0      cancel   \n4      100706.0  7/1/2023      Store        300000.0    complete   \n...         ...       ...        ...             ...         ...   \n5350   100612.0  9/9/2023   Facebook             0.0    complete   \n5351   100632.0  9/9/2023   Facebook             0.0      cancel   \n5352   104778.0  9/9/2023   Facebook             0.0      cancel   \n5353   104780.0  9/9/2023  Instagram             0.0   confirmed   \n5354   104803.0  9/9/2023   Facebook             0.0      cancel   \n\n      TotalProduct                Store CarrierStatusCode  \\\n0                1  37 Nguyen Van Huyen          prepared   \n1                1           Kho Online            cancel   \n2                1  37 Nguyen Van Huyen            cancel   \n3                1           Kho Online            cancel   \n4                1  37 Nguyen Van Huyen          complete   \n...            ...                  ...               ...   \n5350             1           Kho Online          complete   \n5351             1           Kho Online            cancel   \n5352             1           Kho Online            cancel   \n5353             1  37 Nguyen Van Huyen         confirmed   \n5354             1           Kho Online            cancel   \n\n                  CancelReason   SalesProgram     Sex     Title   Price  \\\n0                        Blank      Dat truoc  Female    Ao day  180000   \n1          Khach suy nghi them          Blank  Female    Blazer  450000   \n2     Tra gop khong thanh cong      Dat truoc  Female    Blazer  450000   \n3                Don hang spam          Blank  Female  Chan vay  310000   \n4                        Blank   Mua tai quay  Female    Blazer  450000   \n...                        ...            ...     ...       ...     ...   \n5350                     Blank  Tu van chuyen  Female  Vay lien  430000   \n5351       Khach suy nghi them          Blank  Female    Blazer  450000   \n5352             Don hang spam          Blank  Female  Quan tay  420000   \n5353                     Blank      Dat truoc  Female    Blazer  450000   \n5354             Don hang spam          Blank  Female  Ao phong  300000   \n\n      SubtotalPrice  Month  \n0            180000      7  \n1            450000      7  \n2            450000      7  \n3            310000      7  \n4            450000      7  \n...             ...    ...  \n5350         430000      9  \n5351         450000      9  \n5352         420000      9  \n5353         450000      9  \n5354         300000      9  \n\n[5355 rows x 15 columns]",
      "text/html": "<div>\n<style scoped>\n    .dataframe tbody tr th:only-of-type {\n        vertical-align: middle;\n    }\n\n    .dataframe tbody tr th {\n        vertical-align: top;\n    }\n\n    .dataframe thead th {\n        text-align: right;\n    }\n</style>\n<table border=\"1\" class=\"dataframe\">\n  <thead>\n    <tr style=\"text-align: right;\">\n      <th></th>\n      <th>OrderName</th>\n      <th>CreatedAt</th>\n      <th>SourceName</th>\n      <th>TotalDiscounts</th>\n      <th>OrderStatus</th>\n      <th>TotalProduct</th>\n      <th>Store</th>\n      <th>CarrierStatusCode</th>\n      <th>CancelReason</th>\n      <th>SalesProgram</th>\n      <th>Sex</th>\n      <th>Title</th>\n      <th>Price</th>\n      <th>SubtotalPrice</th>\n      <th>Month</th>\n    </tr>\n  </thead>\n  <tbody>\n    <tr>\n      <th>0</th>\n      <td>100643.0</td>\n      <td>7/1/2023</td>\n      <td>Zalo</td>\n      <td>0.0</td>\n      <td>prepared</td>\n      <td>1</td>\n      <td>37 Nguyen Van Huyen</td>\n      <td>prepared</td>\n      <td>Blank</td>\n      <td>Dat truoc</td>\n      <td>Female</td>\n      <td>Ao day</td>\n      <td>180000</td>\n      <td>180000</td>\n      <td>7</td>\n    </tr>\n    <tr>\n      <th>1</th>\n      <td>100656.0</td>\n      <td>7/1/2023</td>\n      <td>Facebook</td>\n      <td>0.0</td>\n      <td>cancel</td>\n      <td>1</td>\n      <td>Kho Online</td>\n      <td>cancel</td>\n      <td>Khach suy nghi them</td>\n      <td>Blank</td>\n      <td>Female</td>\n      <td>Blazer</td>\n      <td>450000</td>\n      <td>450000</td>\n      <td>7</td>\n    </tr>\n    <tr>\n      <th>2</th>\n      <td>100660.0</td>\n      <td>7/1/2023</td>\n      <td>Facebook</td>\n      <td>0.0</td>\n      <td>cancel</td>\n      <td>1</td>\n      <td>37 Nguyen Van Huyen</td>\n      <td>cancel</td>\n      <td>Tra gop khong thanh cong</td>\n      <td>Dat truoc</td>\n      <td>Female</td>\n      <td>Blazer</td>\n      <td>450000</td>\n      <td>450000</td>\n      <td>7</td>\n    </tr>\n    <tr>\n      <th>3</th>\n      <td>100676.0</td>\n      <td>7/1/2023</td>\n      <td>Facebook</td>\n      <td>0.0</td>\n      <td>cancel</td>\n      <td>1</td>\n      <td>Kho Online</td>\n      <td>cancel</td>\n      <td>Don hang spam</td>\n      <td>Blank</td>\n      <td>Female</td>\n      <td>Chan vay</td>\n      <td>310000</td>\n      <td>310000</td>\n      <td>7</td>\n    </tr>\n    <tr>\n      <th>4</th>\n      <td>100706.0</td>\n      <td>7/1/2023</td>\n      <td>Store</td>\n      <td>300000.0</td>\n      <td>complete</td>\n      <td>1</td>\n      <td>37 Nguyen Van Huyen</td>\n      <td>complete</td>\n      <td>Blank</td>\n      <td>Mua tai quay</td>\n      <td>Female</td>\n      <td>Blazer</td>\n      <td>450000</td>\n      <td>450000</td>\n      <td>7</td>\n    </tr>\n    <tr>\n      <th>...</th>\n      <td>...</td>\n      <td>...</td>\n      <td>...</td>\n      <td>...</td>\n      <td>...</td>\n      <td>...</td>\n      <td>...</td>\n      <td>...</td>\n      <td>...</td>\n      <td>...</td>\n      <td>...</td>\n      <td>...</td>\n      <td>...</td>\n      <td>...</td>\n      <td>...</td>\n    </tr>\n    <tr>\n      <th>5350</th>\n      <td>100612.0</td>\n      <td>9/9/2023</td>\n      <td>Facebook</td>\n      <td>0.0</td>\n      <td>complete</td>\n      <td>1</td>\n      <td>Kho Online</td>\n      <td>complete</td>\n      <td>Blank</td>\n      <td>Tu van chuyen</td>\n      <td>Female</td>\n      <td>Vay lien</td>\n      <td>430000</td>\n      <td>430000</td>\n      <td>9</td>\n    </tr>\n    <tr>\n      <th>5351</th>\n      <td>100632.0</td>\n      <td>9/9/2023</td>\n      <td>Facebook</td>\n      <td>0.0</td>\n      <td>cancel</td>\n      <td>1</td>\n      <td>Kho Online</td>\n      <td>cancel</td>\n      <td>Khach suy nghi them</td>\n      <td>Blank</td>\n      <td>Female</td>\n      <td>Blazer</td>\n      <td>450000</td>\n      <td>450000</td>\n      <td>9</td>\n    </tr>\n    <tr>\n      <th>5352</th>\n      <td>104778.0</td>\n      <td>9/9/2023</td>\n      <td>Facebook</td>\n      <td>0.0</td>\n      <td>cancel</td>\n      <td>1</td>\n      <td>Kho Online</td>\n      <td>cancel</td>\n      <td>Don hang spam</td>\n      <td>Blank</td>\n      <td>Female</td>\n      <td>Quan tay</td>\n      <td>420000</td>\n      <td>420000</td>\n      <td>9</td>\n    </tr>\n    <tr>\n      <th>5353</th>\n      <td>104780.0</td>\n      <td>9/9/2023</td>\n      <td>Instagram</td>\n      <td>0.0</td>\n      <td>confirmed</td>\n      <td>1</td>\n      <td>37 Nguyen Van Huyen</td>\n      <td>confirmed</td>\n      <td>Blank</td>\n      <td>Dat truoc</td>\n      <td>Female</td>\n      <td>Blazer</td>\n      <td>450000</td>\n      <td>450000</td>\n      <td>9</td>\n    </tr>\n    <tr>\n      <th>5354</th>\n      <td>104803.0</td>\n      <td>9/9/2023</td>\n      <td>Facebook</td>\n      <td>0.0</td>\n      <td>cancel</td>\n      <td>1</td>\n      <td>Kho Online</td>\n      <td>cancel</td>\n      <td>Don hang spam</td>\n      <td>Blank</td>\n      <td>Female</td>\n      <td>Ao phong</td>\n      <td>300000</td>\n      <td>300000</td>\n      <td>9</td>\n    </tr>\n  </tbody>\n</table>\n<p>5355 rows × 15 columns</p>\n</div>"
     },
     "execution_count": 282,
     "metadata": {},
     "output_type": "execute_result"
    }
   ],
   "source": [
    "df8['Month']=df8['Month'].astype(int)  #Chuyển data type từ string sang int\n",
    "print(set(df8['Month']))\n",
    "df8"
   ],
   "metadata": {
    "collapsed": false
   }
  },
  {
   "cell_type": "code",
   "execution_count": 283,
   "outputs": [],
   "source": [
    "df1 = df8.groupby('Month')['TotalProduct'].sum().reset_index(name='Orders by months')\n",
    "df1 = spark.createDataFrame(df1)"
   ],
   "metadata": {
    "collapsed": false
   }
  },
  {
   "cell_type": "code",
   "execution_count": 284,
   "outputs": [
    {
     "name": "stdout",
     "output_type": "stream",
     "text": [
      "+-----+----------------+\n",
      "|Month|Orders by months|\n",
      "+-----+----------------+\n",
      "|    9|            1641|\n",
      "|    8|            2090|\n",
      "|    7|            2403|\n",
      "+-----+----------------+\n",
      "\n"
     ]
    }
   ],
   "source": [
    "df1.orderBy(\"Orders by months\").show()\n",
    "# Sắp xếp các tháng theo tứ tự tăng dần về số lượng sản phẩm bán được"
   ],
   "metadata": {
    "collapsed": false
   }
  },
  {
   "cell_type": "markdown",
   "source": [],
   "metadata": {
    "collapsed": false
   }
  }
 ],
 "metadata": {
  "kernelspec": {
   "display_name": "Python 3",
   "language": "python",
   "name": "python3"
  },
  "language_info": {
   "codemirror_mode": {
    "name": "ipython",
    "version": 2
   },
   "file_extension": ".py",
   "mimetype": "text/x-python",
   "name": "python",
   "nbconvert_exporter": "python",
   "pygments_lexer": "ipython2",
   "version": "2.7.6"
  }
 },
 "nbformat": 4,
 "nbformat_minor": 0
}
